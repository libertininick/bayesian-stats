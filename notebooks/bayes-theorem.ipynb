{
 "cells": [
  {
   "cell_type": "code",
   "execution_count": 1,
   "id": "8b18160d",
   "metadata": {
    "execution": {
     "iopub.execute_input": "2023-08-13T20:25:19.851567Z",
     "iopub.status.busy": "2023-08-13T20:25:19.850894Z",
     "iopub.status.idle": "2023-08-13T20:25:20.030306Z",
     "shell.execute_reply": "2023-08-13T20:25:20.029757Z",
     "shell.execute_reply.started": "2023-08-13T20:25:19.851513Z"
    }
   },
   "outputs": [],
   "source": [
    "import numpy as np\n",
    "import pandas as pd"
   ]
  },
  {
   "cell_type": "markdown",
   "id": "4bc38949",
   "metadata": {},
   "source": [
    "# Bayes's Theorem\n",
    "\n",
    "`posterior = (prior * likelihood) / normalizing constant`\n",
    "\n",
    "- Bayes's Rule gives us a logically consistent way to update our beliefs (hypothesis $H$) after observing some data $D_{obs}$.\n",
    "- It also gives us a way to update our beliefs about observing some other types of $D_{new}$ given we've seen $D_{obs}$\n",
    "\n",
    "$P(H|D_{obs}) = \\frac{P(H) * P(D_{obs}|H)}{P(D_{obs})}$\n",
    "\n",
    "$P(D_{new}|D_{obs}) = \\int_HP(D_{obs}|H) * P(H|D_{obs})\\,dH$\n",
    "\n",
    "- $P(H)$: Prior - probability of a hypothesis before seeing the data\n",
    "- $P(H|D_{obs})$ : Posterior - probability of a hypothesis after seeing the data\n",
    "- $P(D_{obs}|H)$ : Likelihood - probability of observing the data if a given hypothesis were true.\n",
    "- $P(D_{obs})$: Marginal probability of observing the data - probability of observing the data irrespective of any hypothesis.\n",
    "    - This is often the hard part to calculate.\n",
    "    - It involves summing up all the likelihoods across all possible hypotheses: $\\sum_{i=1}^nP(H_i) * P(D_{obs}|H_i)$"
   ]
  },
  {
   "cell_type": "markdown",
   "id": "4492664b",
   "metadata": {},
   "source": [
    "# Solving the Monty Hall Problem w/ Bayes\n",
    "- The host shows you three doors; 1 with a car behind in and the other two with goats\n",
    "- You choose a door at random (assume it's door 1)\n",
    "- After choosing a door, the host opens one of the other two doors to reveal a goat (assume it's door 2)\n",
    "    - If you have chosen the door with the car, the host chooses one of the other doors at random.\n",
    "    - If you have not chose the door with the car, the host opens the other door with the goat behind it (never revealing the car).\n",
    "- Then, the host offers you the chance to switch your choice of doors.\n",
    "\n",
    "Should you stick with your original choice or switch doors (to door 3)?\n",
    "\n",
    "- For this problem, the likelihood is the $P(door\\;2\\;opened|car\\;behind\\;door\\;i)$\n",
    "    - If the car is behind door 1, likelihood = 50% of seeing door 2 opened because the host will open door 2 or 3 at random.\n",
    "    - If the car is behind door 2, likelihood = 0% of seeing that door opened; that would reveal the car.\n",
    "    - If the car is behind door 3, likelihood = 100% of seeing door 2 opened; the host cant open door 3 or your chosen door 1."
   ]
  },
  {
   "cell_type": "code",
   "execution_count": 3,
   "id": "d586ac36",
   "metadata": {
    "execution": {
     "iopub.execute_input": "2023-08-13T20:35:26.061910Z",
     "iopub.status.busy": "2023-08-13T20:35:26.061298Z",
     "iopub.status.idle": "2023-08-13T20:35:26.069296Z",
     "shell.execute_reply": "2023-08-13T20:35:26.067749Z",
     "shell.execute_reply.started": "2023-08-13T20:35:26.061860Z"
    },
    "tags": []
   },
   "outputs": [
    {
     "name": "stdout",
     "output_type": "stream",
     "text": [
      "      prior  likelihood  posterior\n",
      "1  0.333333         0.5   0.333333\n",
      "2  0.333333         0.0   0.000000\n",
      "3  0.333333         1.0   0.666667\n"
     ]
    }
   ],
   "source": [
    "prior = np.ones(3) / 3\n",
    "likelihood = np.array([0.5, 0, 1])\n",
    "posterior = prior * likelihood\n",
    "posterior /= posterior.sum()\n",
    "\n",
    "print(pd.DataFrame(\n",
    "    dict(\n",
    "        prior=prior,\n",
    "        likelihood=likelihood,\n",
    "        posterior=posterior\n",
    "    ),\n",
    "    index=np.arange(1,4)\n",
    "))"
   ]
  },
  {
   "cell_type": "markdown",
   "id": "036703ac",
   "metadata": {},
   "source": [
    "Now suppose the host ALWAYS chooses door 2 to open if possible, and only opens door 3 if door 2 has the car behind it.\n",
    "- Our priors stay the same, still 1/3, 1/3, 1/3\n",
    "- Our likelihoods change:\n",
    "    - `P(open door 2 | car behind 1) = 100%` \n",
    "    - `P(open door 2 | car behind 2) = 0%` \n",
    "    - `P(open door 2 | car behind 3) = 100%` "
   ]
  },
  {
   "cell_type": "code",
   "execution_count": 5,
   "id": "b2fd4125",
   "metadata": {
    "execution": {
     "iopub.execute_input": "2023-08-13T20:38:47.995498Z",
     "iopub.status.busy": "2023-08-13T20:38:47.994947Z",
     "iopub.status.idle": "2023-08-13T20:38:48.003372Z",
     "shell.execute_reply": "2023-08-13T20:38:48.002212Z",
     "shell.execute_reply.started": "2023-08-13T20:38:47.995453Z"
    },
    "tags": []
   },
   "outputs": [
    {
     "name": "stdout",
     "output_type": "stream",
     "text": [
      "      prior  likelihood  posterior\n",
      "1  0.333333           1   0.333333\n",
      "2  0.333333           0   0.000000\n",
      "3  0.333333           1   0.333333\n"
     ]
    }
   ],
   "source": [
    "prior = np.ones(3) / 3\n",
    "likelihood = np.array([1, 0, 1])\n",
    "posterior = prior * likelihood\n",
    "posterior /= posteriors.sum()\n",
    "\n",
    "print(pd.DataFrame(\n",
    "    dict(\n",
    "        prior=prior,\n",
    "        likelihood=likelihood,\n",
    "        posterior=posterior\n",
    "    ),\n",
    "    index=np.arange(1,4)\n",
    "))"
   ]
  },
  {
   "cell_type": "markdown",
   "id": "88d7b677",
   "metadata": {},
   "source": [
    "# Which bag of candy?\n",
    "- Assume there are two bags of colored candy:\n",
    "    - Bag 1 has 70% green, 20% blue, 7% yellow, 3% red\n",
    "    - Bag 2 has 50% green, 5% blue, 20% yellow, 25% red\n",
    "- You choose a bag at random, and a piece at random; it's yellow\n",
    "- Then from the other bag, you choose a piece at random, it's red\n",
    "\n",
    "What is the probability the yellow piece came from Bag 1?\n",
    "\n",
    "- Priors for each bag are 50/50\n",
    "- Likelihoods are not the raw proportions of yellow, but the likelihood of seeing a yellow vs a red one:\n",
    "    - Bag 1: likelihood of seeing yellow vs red = `7% / 3%` = `2.33`\n",
    "    - Bag 2: likelihood of seeing yellow vs red = `20% / 25%` = `0.8`"
   ]
  },
  {
   "cell_type": "code",
   "execution_count": 10,
   "id": "39a1827b",
   "metadata": {
    "execution": {
     "iopub.execute_input": "2023-08-13T20:39:28.342727Z",
     "iopub.status.busy": "2023-08-13T20:39:28.342183Z",
     "iopub.status.idle": "2023-08-13T20:39:28.349126Z",
     "shell.execute_reply": "2023-08-13T20:39:28.347887Z",
     "shell.execute_reply.started": "2023-08-13T20:39:28.342683Z"
    },
    "tags": []
   },
   "outputs": [
    {
     "name": "stdout",
     "output_type": "stream",
     "text": [
      "   prior  likelihood  posterior\n",
      "1    0.5    2.333333   0.744681\n",
      "2    0.5    0.800000   0.255319\n"
     ]
    }
   ],
   "source": [
    "prior = np.ones(2) / 2\n",
    "\n",
    "likelihood = np.array([0.07/ 0.03, 0.2/ 0.25])\n",
    "\n",
    "posterior = prior * likelihood\n",
    "posterior /= posterior.sum()\n",
    "\n",
    "print(pd.DataFrame(\n",
    "    dict(\n",
    "        prior=prior,\n",
    "        likelihood=likelihood,\n",
    "        posterior=posterior\n",
    "    ),\n",
    "    index=np.arange(1,3)\n",
    "))"
   ]
  },
  {
   "cell_type": "markdown",
   "id": "7092accf",
   "metadata": {},
   "source": [
    "## Taken to the limit\n",
    "Assume that Bag 1 has 1 yellow candy and 0 red candies, while bag 2 has 1000 yellow candies and 1 red candy.\n",
    "\n",
    "If we see 1 yellow and 1 red, the yellow has to come from bag 1 and the red from bag 2:\n",
    "\n",
    "as the # of red candies in bag 1 approaches 0 (`1e-8`):"
   ]
  },
  {
   "cell_type": "code",
   "execution_count": 11,
   "id": "df11aaf2",
   "metadata": {
    "execution": {
     "iopub.execute_input": "2023-08-13T20:42:09.316839Z",
     "iopub.status.busy": "2023-08-13T20:42:09.316303Z",
     "iopub.status.idle": "2023-08-13T20:42:09.324310Z",
     "shell.execute_reply": "2023-08-13T20:42:09.323088Z",
     "shell.execute_reply.started": "2023-08-13T20:42:09.316796Z"
    }
   },
   "outputs": [
    {
     "name": "stdout",
     "output_type": "stream",
     "text": [
      "   prior   likelihood  posterior\n",
      "1    0.5  100000000.0    0.99999\n",
      "2    0.5       1000.0    0.00001\n"
     ]
    }
   ],
   "source": [
    "prior = np.ones(2) / 2\n",
    "\n",
    "likelihood = np.array([1/1e-8, 1000/1])\n",
    "\n",
    "posterior = prior * likelihood\n",
    "posterior /= posterior.sum()\n",
    "\n",
    "print(pd.DataFrame(\n",
    "    dict(\n",
    "        prior=prior,\n",
    "        likelihood=likelihood,\n",
    "        posterior=posterior\n",
    "    ),\n",
    "    index=np.arange(1,3)\n",
    "))"
   ]
  },
  {
   "cell_type": "code",
   "execution_count": null,
   "id": "0660b741",
   "metadata": {},
   "outputs": [],
   "source": []
  }
 ],
 "metadata": {
  "kernelspec": {
   "display_name": "Python [conda env:bayesian_stats]",
   "language": "python",
   "name": "conda-env-bayesian_stats-py"
  },
  "language_info": {
   "codemirror_mode": {
    "name": "ipython",
    "version": 3
   },
   "file_extension": ".py",
   "mimetype": "text/x-python",
   "name": "python",
   "nbconvert_exporter": "python",
   "pygments_lexer": "ipython3",
   "version": "3.11.4"
  }
 },
 "nbformat": 4,
 "nbformat_minor": 5
}
