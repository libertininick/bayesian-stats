{
 "cells": [
  {
   "cell_type": "code",
   "execution_count": 28,
   "id": "a2dfc161-8bc6-4ca6-9ef2-1eb913d00436",
   "metadata": {
    "execution": {
     "iopub.execute_input": "2023-10-28T21:46:44.716709Z",
     "iopub.status.busy": "2023-10-28T21:46:44.716067Z",
     "iopub.status.idle": "2023-10-28T21:46:44.740452Z",
     "shell.execute_reply": "2023-10-28T21:46:44.740003Z",
     "shell.execute_reply.started": "2023-10-28T21:46:44.716656Z"
    },
    "tags": []
   },
   "outputs": [
    {
     "name": "stdout",
     "output_type": "stream",
     "text": [
      "The autoreload extension is already loaded. To reload it, use:\n",
      "  %reload_ext autoreload\n"
     ]
    }
   ],
   "source": [
    "%load_ext autoreload\n",
    "%autoreload 2\n",
    "from functools import partial\n",
    "\n",
    "import torch\n",
    "import pyro.distributions as dist\n",
    "from scipy import stats\n",
    "from torch import Tensor\n",
    "\n",
    "from bayesian_stats.mcmc import initialize_samples, get_sample_log_prob"
   ]
  },
  {
   "cell_type": "code",
   "execution_count": 23,
   "id": "cbb15c44-3dd2-4d10-aec0-31414facff04",
   "metadata": {
    "execution": {
     "iopub.execute_input": "2023-10-28T21:43:40.188873Z",
     "iopub.status.busy": "2023-10-28T21:43:40.188298Z",
     "iopub.status.idle": "2023-10-28T21:43:40.207649Z",
     "shell.execute_reply": "2023-10-28T21:43:40.207309Z",
     "shell.execute_reply.started": "2023-10-28T21:43:40.188828Z"
    },
    "tags": []
   },
   "outputs": [],
   "source": []
  },
  {
   "cell_type": "code",
   "execution_count": 33,
   "id": "0b1df0bf-5140-4730-8c43-ec115d7aac02",
   "metadata": {
    "execution": {
     "iopub.execute_input": "2023-10-28T21:48:41.656252Z",
     "iopub.status.busy": "2023-10-28T21:48:41.655620Z",
     "iopub.status.idle": "2023-10-28T21:48:41.674463Z",
     "shell.execute_reply": "2023-10-28T21:48:41.674090Z",
     "shell.execute_reply.started": "2023-10-28T21:48:41.656202Z"
    },
    "tags": []
   },
   "outputs": [],
   "source": [
    "def prior(a: float, b: float, p: Tensor) -> Tensor:\n",
    "    return dist.Beta(a, b).log_prob(p)\n",
    "\n",
    "def likelihood(p: Tensor, n: int, k: int) -> Tensor:\n",
    "    return dist.Binomial(total_count=n, probs=p).log_prob(torch.tensor(k))"
   ]
  },
  {
   "cell_type": "code",
   "execution_count": 38,
   "id": "5bd32dfd-466a-4558-96a7-18f6cf011ef5",
   "metadata": {
    "execution": {
     "iopub.execute_input": "2023-10-28T21:52:07.891708Z",
     "iopub.status.busy": "2023-10-28T21:52:07.891076Z",
     "iopub.status.idle": "2023-10-28T21:52:07.909541Z",
     "shell.execute_reply": "2023-10-28T21:52:07.909238Z",
     "shell.execute_reply.started": "2023-10-28T21:52:07.891658Z"
    },
    "tags": []
   },
   "outputs": [
    {
     "data": {
      "text/plain": [
       "tensor([[0.1651],\n",
       "        [0.8562],\n",
       "        [0.5795],\n",
       "        [0.3953]])"
      ]
     },
     "execution_count": 38,
     "metadata": {},
     "output_type": "execute_result"
    }
   ],
   "source": [
    "samples = initialize_samples([(0,1)], num_samples=2**2)\n",
    "samples"
   ]
  },
  {
   "cell_type": "code",
   "execution_count": 39,
   "id": "f421f9b3-f695-4620-9261-8d846279d929",
   "metadata": {
    "execution": {
     "iopub.execute_input": "2023-10-28T21:52:11.170181Z",
     "iopub.status.busy": "2023-10-28T21:52:11.169615Z",
     "iopub.status.idle": "2023-10-28T21:52:11.190050Z",
     "shell.execute_reply": "2023-10-28T21:52:11.189775Z",
     "shell.execute_reply.started": "2023-10-28T21:52:11.170137Z"
    },
    "tags": []
   },
   "outputs": [
    {
     "data": {
      "text/plain": [
       "tensor([-14.3610,  -9.2479,  -1.9361,  -3.7153])"
      ]
     },
     "execution_count": 39,
     "metadata": {},
     "output_type": "execute_result"
    }
   ],
   "source": [
    "get_sample_log_prob(\n",
    "    parameters=[\"p\"],\n",
    "    samples=samples,\n",
    "    likelihood=partial(likelihood, n=30, k=17),\n",
    "    prior=partial(prior, a=1, b=1),\n",
    ")"
   ]
  },
  {
   "cell_type": "code",
   "execution_count": null,
   "id": "50d116d6-e1b8-4743-af17-db25fab9ff6b",
   "metadata": {},
   "outputs": [],
   "source": []
  }
 ],
 "metadata": {
  "kernelspec": {
   "display_name": "Python [conda env:bayesian_stats]",
   "language": "python",
   "name": "conda-env-bayesian_stats-py"
  },
  "language_info": {
   "codemirror_mode": {
    "name": "ipython",
    "version": 3
   },
   "file_extension": ".py",
   "mimetype": "text/x-python",
   "name": "python",
   "nbconvert_exporter": "python",
   "pygments_lexer": "ipython3",
   "version": "3.11.4"
  }
 },
 "nbformat": 4,
 "nbformat_minor": 5
}
