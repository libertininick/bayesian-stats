{
 "cells": [
  {
   "cell_type": "code",
   "execution_count": 2,
   "id": "a2dfc161-8bc6-4ca6-9ef2-1eb913d00436",
   "metadata": {
    "execution": {
     "iopub.execute_input": "2023-11-21T03:49:15.738426Z",
     "iopub.status.busy": "2023-11-21T03:49:15.738003Z",
     "iopub.status.idle": "2023-11-21T03:49:16.930488Z",
     "shell.execute_reply": "2023-11-21T03:49:16.929986Z",
     "shell.execute_reply.started": "2023-11-21T03:49:15.738379Z"
    },
    "tags": []
   },
   "outputs": [],
   "source": [
    "%load_ext autoreload\n",
    "%autoreload 2\n",
    "from functools import partial\n",
    "from pathlib import Path\n",
    "\n",
    "import arviz as az\n",
    "import matplotlib.pyplot as plt\n",
    "import pandas as pd\n",
    "import pyro.distributions as dist\n",
    "import torch\n",
    "\n",
    "from dotenv import dotenv_values\n",
    "from scipy import stats\n",
    "from torch import Tensor\n",
    "\n",
    "from bayesian_stats.mcmc import ParameterSamples, run_mcmc\n",
    "from bayesian_stats.utils import get_cumulative_prob, get_quantile_diffs, get_wasserstein_distance"
   ]
  },
  {
   "cell_type": "markdown",
   "id": "cace6e97-fb9a-41d9-b199-8546db154c8c",
   "metadata": {
    "execution": {
     "iopub.execute_input": "2023-10-28T21:43:40.188873Z",
     "iopub.status.busy": "2023-10-28T21:43:40.188298Z",
     "iopub.status.idle": "2023-10-28T21:43:40.207649Z",
     "shell.execute_reply": "2023-10-28T21:43:40.207309Z",
     "shell.execute_reply.started": "2023-10-28T21:43:40.188828Z"
    },
    "tags": []
   },
   "source": [
    "# Beta-binomial example\n",
    "What is the probability a coin is materially biases towards heads ($P(heads) > 52.5\\%$), given we flipped it 250 times and observed 140 heads?\n",
    "\n",
    "We'll set our prior to convey significant skepticism the coin is biased: $P(heads) \\sim beta(a=100, b=100)$"
   ]
  },
  {
   "cell_type": "markdown",
   "id": "a0d30704-4ea8-43da-b7af-b793866c6139",
   "metadata": {},
   "source": [
    "## Analytic solution using beta-binomial conjugate"
   ]
  },
  {
   "cell_type": "code",
   "execution_count": null,
   "id": "b3e3f975-fd0d-4849-b4d3-611d1ee552fa",
   "metadata": {
    "tags": []
   },
   "outputs": [],
   "source": [
    "prior = stats.beta(a=100, b=100)\n",
    "posterior = stats.beta(a=100 + 140, b=100 + 250 - 140)\n",
    "print(f\"P(heads) > 52.5% after observing 140 heads out of 250 flips: {1 - posterior.cdf(0.525):.2%}\")\n",
    "\n",
    "_, ax = plt.subplots(figsize=(10,5))\n",
    "\n",
    "p_heads = torch.linspace(0, 1, 1001)\n",
    "ax.plot(p_heads, prior.pdf(p_heads), label=\"prior\", color=\"blue\")\n",
    "ax.plot(p_heads, posterior.pdf(p_heads), label=\"posterior\", color=\"orange\")\n",
    "ax.spines[['right', 'top']].set_visible(False)\n",
    "ax.set_title(\n",
    "    \"Distribution of latent probability this coin lands on heads after observing 140 heads in 250 flips\",\n",
    "    loc='left', \n",
    "    fontdict={'fontsize': 12}\n",
    ")\n",
    "ax.set_xlabel(\"P(heads)\")\n",
    "ax.set_ylabel(\"P(hypothesis)\")\n",
    "ax.legend();"
   ]
  },
  {
   "cell_type": "markdown",
   "id": "64083ab1-d280-43c7-8862-771862a591e4",
   "metadata": {},
   "source": [
    "## Approximate solution using MCMC"
   ]
  },
  {
   "cell_type": "code",
   "execution_count": 2,
   "id": "3c5985d0-b967-4eba-947e-2af9ebe92dcf",
   "metadata": {
    "execution": {
     "iopub.execute_input": "2023-11-21T03:18:57.919958Z",
     "iopub.status.busy": "2023-11-21T03:18:57.919391Z",
     "iopub.status.idle": "2023-11-21T03:18:58.136750Z",
     "shell.execute_reply": "2023-11-21T03:18:58.136469Z",
     "shell.execute_reply.started": "2023-11-21T03:18:57.919912Z"
    },
    "tags": []
   },
   "outputs": [
    {
     "name": "stdout",
     "output_type": "stream",
     "text": [
      "████                                                                                                 |     49/1,000 |  1.4% | 0.00380\r"
     ]
    },
    {
     "data": {
      "text/html": [
       "<div>\n",
       "<style scoped>\n",
       "    .dataframe tbody tr th:only-of-type {\n",
       "        vertical-align: middle;\n",
       "    }\n",
       "\n",
       "    .dataframe tbody tr th {\n",
       "        vertical-align: top;\n",
       "    }\n",
       "\n",
       "    .dataframe thead th {\n",
       "        text-align: right;\n",
       "    }\n",
       "</style>\n",
       "<table border=\"1\" class=\"dataframe\">\n",
       "  <thead>\n",
       "    <tr style=\"text-align: right;\">\n",
       "      <th></th>\n",
       "      <th>mean</th>\n",
       "      <th>std</th>\n",
       "      <th>min</th>\n",
       "      <th>25%</th>\n",
       "      <th>50%</th>\n",
       "      <th>75%</th>\n",
       "      <th>max</th>\n",
       "    </tr>\n",
       "  </thead>\n",
       "  <tbody>\n",
       "    <tr>\n",
       "      <th>p</th>\n",
       "      <td>0.532834</td>\n",
       "      <td>0.02367</td>\n",
       "      <td>0.378193</td>\n",
       "      <td>0.517261</td>\n",
       "      <td>0.533207</td>\n",
       "      <td>0.549134</td>\n",
       "      <td>0.629403</td>\n",
       "    </tr>\n",
       "  </tbody>\n",
       "</table>\n",
       "</div>"
      ],
      "text/plain": [
       "       mean      std       min       25%       50%       75%       max\n",
       "p  0.532834  0.02367  0.378193  0.517261  0.533207  0.549134  0.629403"
      ]
     },
     "execution_count": 2,
     "metadata": {},
     "output_type": "execute_result"
    }
   ],
   "source": [
    "def prior_func(a: float, b: float, p: Tensor) -> Tensor:\n",
    "    return dist.Beta(a, b).log_prob(p)\n",
    "\n",
    "def likelihood_func(p: Tensor, n: int, k: int) -> Tensor:\n",
    "    return dist.Binomial(total_count=n, probs=p).log_prob(torch.tensor(k))\n",
    "\n",
    "parameter_samples = ParameterSamples.random_initialization(\n",
    "    bounds=dict(p=(0., 1.)),\n",
    "    shapes=dict(p=(1,)),\n",
    "    num_samples=2**12,\n",
    ")\n",
    "result = run_mcmc(\n",
    "    parameter_samples,\n",
    "    prior_func=partial(prior_func, a=100, b=100),\n",
    "    likelihood_func=partial(likelihood_func, n=250, k=140),\n",
    "    max_iter=1_000,\n",
    "    max_corr=0.01,\n",
    "    max_split_distance=0.005,\n",
    "    verbose=True,\n",
    ")\n",
    "result.get_posterior_summary()"
   ]
  },
  {
   "cell_type": "markdown",
   "id": "09712fc6-2b27-4971-a83b-740e74478123",
   "metadata": {},
   "source": [
    "### Diagnostic plots"
   ]
  },
  {
   "cell_type": "code",
   "execution_count": null,
   "id": "19d39f94-ce89-48b5-813b-9c889acf8c13",
   "metadata": {
    "tags": []
   },
   "outputs": [],
   "source": [
    "_, ax = plt.subplots(figsize=(10,5))\n",
    "for param in result.parameter_samples.keys():\n",
    "    ax.plot(result.correlation_traces[param].squeeze(), label=param)\n",
    "ax.set_title(\"Correlation of samples with intialization\", loc=\"left\");\n",
    "ax.set_xlabel(\"MCMC Iteration #\");\n",
    "ax.set_ylabel(\"Correlation\");\n",
    "ax.spines[['right', 'top']].set_visible(False);\n",
    "ax.legend();"
   ]
  },
  {
   "cell_type": "code",
   "execution_count": null,
   "id": "f243445b-c8ee-4830-ba90-13618743a0d1",
   "metadata": {
    "tags": []
   },
   "outputs": [],
   "source": [
    "_, ax = plt.subplots(figsize=(10,5))\n",
    "for param in result.parameter_samples.keys():\n",
    "    ax.plot(result.wasserstein_distance_traces[param].squeeze(), label=param)\n",
    "ax.set_title(\"Trace of Wasserstein distance between split A & B\", loc=\"left\");\n",
    "ax.set_xlabel(\"MCMC Iteration #\");\n",
    "ax.set_ylabel(\"Wasserstein Distance\");\n",
    "ax.spines[['right', 'top']].set_visible(False);\n",
    "ax.legend();"
   ]
  },
  {
   "cell_type": "markdown",
   "id": "1c6f6889-a9ae-4597-8029-723b7bb6a584",
   "metadata": {
    "execution": {
     "iopub.execute_input": "2023-11-02T01:41:26.924628Z",
     "iopub.status.busy": "2023-11-02T01:41:26.924080Z",
     "iopub.status.idle": "2023-11-02T01:41:26.935686Z",
     "shell.execute_reply": "2023-11-02T01:41:26.935306Z",
     "shell.execute_reply.started": "2023-11-02T01:41:26.924585Z"
    },
    "tags": []
   },
   "source": [
    "### $P(heads) > 52.5\\%$ using MCMC samples"
   ]
  },
  {
   "cell_type": "code",
   "execution_count": null,
   "id": "2c60d0ff-6e27-4f78-84b4-aad05f0e2423",
   "metadata": {
    "tags": []
   },
   "outputs": [],
   "source": [
    "print(f\"P(heads) > 52.5% after observing 140 heads out of 250 flips: {(result.parameter_samples['p'] > 0.525).numpy().mean():.2%}\")\n",
    "\n",
    "_, ax = plt.subplots(figsize=(10,5))\n",
    "\n",
    "p_heads = torch.linspace(0, 1, 101)\n",
    "ax.plot(p_heads, prior.pdf(p_heads), label=\"prior\", color=\"blue\")\n",
    "ax.plot(p_heads, posterior.pdf(p_heads), label=\"posterior\", color=\"orange\")\n",
    "ax.hist(result.parameter_samples[\"p\"].squeeze(), bins=p_heads, density=True, label=\"approx-posterior\", color=\"green\", alpha=0.5)\n",
    "ax.axvline(x=result.map_values[\"p\"].item(), label=\"MAP estimate\", color=\"green\", linestyle=\"--\")\n",
    "ax.spines[['right', 'top']].set_visible(False)\n",
    "ax.set_title(\n",
    "    \"Distribution of latent probability this coin lands on heads after observing 140 heads in 250 flips\",\n",
    "    loc='left', \n",
    "    fontdict={'fontsize': 12}\n",
    ")\n",
    "ax.set_xlabel(\"P(heads)\")\n",
    "ax.set_ylabel(\"P(hypothesis)\")\n",
    "ax.legend();"
   ]
  },
  {
   "cell_type": "markdown",
   "id": "6b727662-365b-44fd-a4d4-ce15640c758b",
   "metadata": {
    "tags": []
   },
   "source": [
    "# Gamma-Poisson Example\n",
    "\n",
    "You and your kid want to estimate how many pieces of candy, on average, a trick-or-treater collects from each house they visit. You both think the average is probably 2, but you also think there is a reasonable chance it could be materially higher than that. A $candy\\_rate \\sim Gamma(1, 0.5)$ is a reasonable reflection of your prior beliefs.\n",
    "\n",
    "After visiting `5` houses, your kid has collected `[1, 6, 4, 2, 5]` pieces of candy; what's your updated belief of what the latent `candy_rate` is?"
   ]
  },
  {
   "cell_type": "markdown",
   "id": "574dbb49-1cbf-4782-9ad8-c8ab9f3e367d",
   "metadata": {
    "execution": {
     "iopub.execute_input": "2023-11-02T02:01:39.757673Z",
     "iopub.status.busy": "2023-11-02T02:01:39.756952Z",
     "iopub.status.idle": "2023-11-02T02:01:39.777230Z",
     "shell.execute_reply": "2023-11-02T02:01:39.776864Z",
     "shell.execute_reply.started": "2023-11-02T02:01:39.757619Z"
    },
    "tags": []
   },
   "source": [
    "## Analytic solution using gamma-poisson conjugate"
   ]
  },
  {
   "cell_type": "code",
   "execution_count": null,
   "id": "c096e224-b226-44a6-9146-058ba338185e",
   "metadata": {
    "tags": []
   },
   "outputs": [],
   "source": [
    "prior = dist.Gamma(concentration=1, rate=0.5)\n",
    "obs = [1, 6, 4, 2, 5]\n",
    "posterior = dist.Gamma(concentration=1 + sum(obs), rate=0.5 + len(obs))\n",
    "\n",
    "_, ax = plt.subplots(figsize=(10,5))\n",
    "\n",
    "candy_rate = torch.linspace(0, 15, 1001)\n",
    "ax.plot(candy_rate, torch.exp(prior.log_prob(candy_rate)), label=\"prior\", color=\"blue\")\n",
    "ax.plot(candy_rate, torch.exp(posterior.log_prob(candy_rate)), label=\"posterior\", color=\"orange\")\n",
    "ax.spines[['right', 'top']].set_visible(False)\n",
    "ax.set_title(\n",
    "    \"Distribution of latent 'candy rate' after collecting 18 pieces in 5 houses\",\n",
    "    loc='left', \n",
    "    fontdict={'fontsize': 12}\n",
    ")\n",
    "ax.set_xlabel(\"P(heads)\")\n",
    "ax.set_ylabel(\"P(hypothesis)\")\n",
    "ax.legend();"
   ]
  },
  {
   "cell_type": "markdown",
   "id": "7fce8c50-57b5-4a9d-ab27-c9ccc967a537",
   "metadata": {
    "execution": {
     "iopub.execute_input": "2023-11-02T02:09:44.520506Z",
     "iopub.status.busy": "2023-11-02T02:09:44.519918Z",
     "iopub.status.idle": "2023-11-02T02:09:44.948375Z",
     "shell.execute_reply": "2023-11-02T02:09:44.948134Z",
     "shell.execute_reply.started": "2023-11-02T02:09:44.520464Z"
    },
    "tags": []
   },
   "source": [
    "## Approximate solution using MCMC"
   ]
  },
  {
   "cell_type": "code",
   "execution_count": null,
   "id": "d9a38ffe-b9a4-49bf-9578-257f53a48630",
   "metadata": {
    "tags": []
   },
   "outputs": [],
   "source": [
    "def prior_func(concentration: float, rate: float, candy_rate: Tensor) -> Tensor:\n",
    "    return dist.Gamma(concentration, rate).log_prob(candy_rate)\n",
    "\n",
    "def likelihood_func(candy_rate: Tensor, obs: list[int]) -> Tensor:\n",
    "    return dist.Poisson(rate=candy_rate * len(obs)).log_prob(torch.tensor(sum(obs)))\n",
    "\n",
    "parameter_samples = ParameterSamples.random_initialization(\n",
    "    bounds=dict(candy_rate=(0., 20.)),\n",
    "    shapes=dict(candy_rate=(1,)),\n",
    "    num_samples=2**13,\n",
    ")\n",
    "result = run_mcmc(\n",
    "    parameter_samples,\n",
    "    prior_func=partial(prior_func, concentration=1.0, rate=0.5),\n",
    "    likelihood_func=partial(likelihood_func, obs=[1, 6, 4, 2, 5]),\n",
    ")\n",
    "result.get_posterior_summary()"
   ]
  },
  {
   "cell_type": "markdown",
   "id": "e1f97018-9af6-47e7-a97c-074b8e5464d5",
   "metadata": {},
   "source": [
    "### Diagnostic plots"
   ]
  },
  {
   "cell_type": "code",
   "execution_count": null,
   "id": "ab316e7f-3519-4218-894c-205396b8a489",
   "metadata": {
    "tags": []
   },
   "outputs": [],
   "source": [
    "_, ax = plt.subplots(figsize=(10,5))\n",
    "for param in result.parameter_samples.keys():\n",
    "    ax.plot(result.correlation_traces[param].squeeze(), label=param)\n",
    "ax.set_title(\"Correlation of samples with intialization\", loc=\"left\");\n",
    "ax.set_xlabel(\"MCMC Iteration #\");\n",
    "ax.set_ylabel(\"Correlation\");\n",
    "ax.spines[['right', 'top']].set_visible(False);\n",
    "ax.legend();"
   ]
  },
  {
   "cell_type": "code",
   "execution_count": null,
   "id": "facb134c-f528-4d6c-907a-0d4ac2f793e5",
   "metadata": {
    "tags": []
   },
   "outputs": [],
   "source": [
    "_, ax = plt.subplots(figsize=(10,5))\n",
    "for param in result.parameter_samples.keys():\n",
    "    ax.plot(result.wasserstein_distance_traces[param].squeeze(), label=param)\n",
    "ax.set_title(\"Trace of Wasserstein distance between split A & B\", loc=\"left\");\n",
    "ax.set_xlabel(\"MCMC Iteration #\");\n",
    "ax.set_ylabel(\"Wasserstein Distance\");\n",
    "ax.spines[['right', 'top']].set_visible(False);\n",
    "ax.legend();"
   ]
  },
  {
   "cell_type": "markdown",
   "id": "d6407121-659b-4584-8347-923707d59df2",
   "metadata": {},
   "source": [
    "### Posterior analysis using MCMC samples"
   ]
  },
  {
   "cell_type": "code",
   "execution_count": null,
   "id": "34e26dd6-98ac-45b1-b6a8-df9ff02fc5ea",
   "metadata": {
    "tags": []
   },
   "outputs": [],
   "source": [
    "_, ax = plt.subplots(figsize=(10,5))\n",
    "\n",
    "candy_rate = torch.linspace(0, 15, 101)\n",
    "ax.plot(candy_rate, torch.exp(prior.log_prob(candy_rate)), label=\"prior\", color=\"blue\")\n",
    "ax.plot(candy_rate, torch.exp(posterior.log_prob(candy_rate)), label=\"posterior\", color=\"orange\")\n",
    "ax.hist(result.parameter_samples[\"candy_rate\"].squeeze(), bins=candy_rate, density=True, label=\"approx-posterior\", color=\"green\", alpha=0.5)\n",
    "ax.axvline(x=result.map_values[\"candy_rate\"].item(), label=\"MAP estimate\", color=\"green\", linestyle=\"--\")\n",
    "ax.spines[['right', 'top']].set_visible(False)\n",
    "ax.set_title(\n",
    "    \"Distribution of latent 'candy rate' after collecting 18 pieces in 5 houses\",\n",
    "    loc='left', \n",
    "    fontdict={'fontsize': 12}\n",
    ")\n",
    "ax.set_xlabel(\"P(heads)\")\n",
    "ax.set_ylabel(\"P(hypothesis)\")\n",
    "ax.legend();"
   ]
  },
  {
   "cell_type": "markdown",
   "id": "71245bc4-64f1-4033-bb3f-239722ab20cd",
   "metadata": {},
   "source": [
    "# Linear Regression\n",
    "\n",
    "- [bikes](https://github.com/bayes-rules/bayesrules/blob/master/data/bikes.rda) data from `bayesrules` via [pyreadr](https://pypi.org/project/pyreadr/)"
   ]
  },
  {
   "cell_type": "code",
   "execution_count": 3,
   "id": "d7be0058-7b54-4361-950a-1e080ff3807f",
   "metadata": {
    "execution": {
     "iopub.execute_input": "2023-11-21T03:49:26.178331Z",
     "iopub.status.busy": "2023-11-21T03:49:26.177524Z",
     "iopub.status.idle": "2023-11-21T03:49:26.212440Z",
     "shell.execute_reply": "2023-11-21T03:49:26.212202Z",
     "shell.execute_reply.started": "2023-11-21T03:49:26.178281Z"
    },
    "tags": []
   },
   "outputs": [
    {
     "data": {
      "text/html": [
       "<div>\n",
       "<style scoped>\n",
       "    .dataframe tbody tr th:only-of-type {\n",
       "        vertical-align: middle;\n",
       "    }\n",
       "\n",
       "    .dataframe tbody tr th {\n",
       "        vertical-align: top;\n",
       "    }\n",
       "\n",
       "    .dataframe thead th {\n",
       "        text-align: right;\n",
       "    }\n",
       "</style>\n",
       "<table border=\"1\" class=\"dataframe\">\n",
       "  <thead>\n",
       "    <tr style=\"text-align: right;\">\n",
       "      <th></th>\n",
       "      <th>date</th>\n",
       "      <th>season</th>\n",
       "      <th>year</th>\n",
       "      <th>month</th>\n",
       "      <th>day_of_week</th>\n",
       "      <th>weekend</th>\n",
       "      <th>holiday</th>\n",
       "      <th>temp_actual</th>\n",
       "      <th>temp_feel</th>\n",
       "      <th>humidity</th>\n",
       "      <th>windspeed</th>\n",
       "      <th>weather_cat</th>\n",
       "      <th>rides</th>\n",
       "    </tr>\n",
       "  </thead>\n",
       "  <tbody>\n",
       "    <tr>\n",
       "      <th>0</th>\n",
       "      <td>2011-01-01</td>\n",
       "      <td>winter</td>\n",
       "      <td>2011</td>\n",
       "      <td>Jan</td>\n",
       "      <td>Sat</td>\n",
       "      <td>True</td>\n",
       "      <td>no</td>\n",
       "      <td>57.399525</td>\n",
       "      <td>64.72625</td>\n",
       "      <td>80.5833</td>\n",
       "      <td>10.749882</td>\n",
       "      <td>categ2</td>\n",
       "      <td>654</td>\n",
       "    </tr>\n",
       "    <tr>\n",
       "      <th>1</th>\n",
       "      <td>2011-01-03</td>\n",
       "      <td>winter</td>\n",
       "      <td>2011</td>\n",
       "      <td>Jan</td>\n",
       "      <td>Mon</td>\n",
       "      <td>False</td>\n",
       "      <td>no</td>\n",
       "      <td>46.491663</td>\n",
       "      <td>49.04645</td>\n",
       "      <td>43.7273</td>\n",
       "      <td>16.636703</td>\n",
       "      <td>categ1</td>\n",
       "      <td>1229</td>\n",
       "    </tr>\n",
       "    <tr>\n",
       "      <th>2</th>\n",
       "      <td>2011-01-04</td>\n",
       "      <td>winter</td>\n",
       "      <td>2011</td>\n",
       "      <td>Jan</td>\n",
       "      <td>Tue</td>\n",
       "      <td>False</td>\n",
       "      <td>no</td>\n",
       "      <td>46.760000</td>\n",
       "      <td>51.09098</td>\n",
       "      <td>59.0435</td>\n",
       "      <td>10.739832</td>\n",
       "      <td>categ1</td>\n",
       "      <td>1454</td>\n",
       "    </tr>\n",
       "    <tr>\n",
       "      <th>3</th>\n",
       "      <td>2011-01-05</td>\n",
       "      <td>winter</td>\n",
       "      <td>2011</td>\n",
       "      <td>Jan</td>\n",
       "      <td>Wed</td>\n",
       "      <td>False</td>\n",
       "      <td>no</td>\n",
       "      <td>48.749427</td>\n",
       "      <td>52.63430</td>\n",
       "      <td>43.6957</td>\n",
       "      <td>12.522300</td>\n",
       "      <td>categ1</td>\n",
       "      <td>1518</td>\n",
       "    </tr>\n",
       "    <tr>\n",
       "      <th>4</th>\n",
       "      <td>2011-01-07</td>\n",
       "      <td>winter</td>\n",
       "      <td>2011</td>\n",
       "      <td>Jan</td>\n",
       "      <td>Fri</td>\n",
       "      <td>False</td>\n",
       "      <td>no</td>\n",
       "      <td>46.503324</td>\n",
       "      <td>50.79551</td>\n",
       "      <td>49.8696</td>\n",
       "      <td>11.304642</td>\n",
       "      <td>categ2</td>\n",
       "      <td>1362</td>\n",
       "    </tr>\n",
       "  </tbody>\n",
       "</table>\n",
       "</div>"
      ],
      "text/plain": [
       "         date  season  year month day_of_week  weekend holiday  temp_actual  \\\n",
       "0  2011-01-01  winter  2011   Jan         Sat     True      no    57.399525   \n",
       "1  2011-01-03  winter  2011   Jan         Mon    False      no    46.491663   \n",
       "2  2011-01-04  winter  2011   Jan         Tue    False      no    46.760000   \n",
       "3  2011-01-05  winter  2011   Jan         Wed    False      no    48.749427   \n",
       "4  2011-01-07  winter  2011   Jan         Fri    False      no    46.503324   \n",
       "\n",
       "   temp_feel  humidity  windspeed weather_cat  rides  \n",
       "0   64.72625   80.5833  10.749882      categ2    654  \n",
       "1   49.04645   43.7273  16.636703      categ1   1229  \n",
       "2   51.09098   59.0435  10.739832      categ1   1454  \n",
       "3   52.63430   43.6957  12.522300      categ1   1518  \n",
       "4   50.79551   49.8696  11.304642      categ2   1362  "
      ]
     },
     "execution_count": 3,
     "metadata": {},
     "output_type": "execute_result"
    }
   ],
   "source": [
    "env_config = dotenv_values() \n",
    "data_dir = Path(env_config[\"DATA_DIR\"])\n",
    "data = pd.read_csv(data_dir / \"bikes.csv\")\n",
    "data.head()"
   ]
  },
  {
   "cell_type": "code",
   "execution_count": 14,
   "id": "ed330e03-e8a4-4cf3-b725-71ee544496c3",
   "metadata": {
    "execution": {
     "iopub.execute_input": "2023-11-21T03:28:29.109293Z",
     "iopub.status.busy": "2023-11-21T03:28:29.108748Z",
     "iopub.status.idle": "2023-11-21T03:28:29.202448Z",
     "shell.execute_reply": "2023-11-21T03:28:29.202117Z",
     "shell.execute_reply.started": "2023-11-21T03:28:29.109249Z"
    },
    "tags": []
   },
   "outputs": [
    {
     "data": {
      "image/png": "[encoded data removed]",
      "text/plain": [
       "<Figure size 1000x500 with 1 Axes>"
      ]
     },
     "metadata": {},
     "output_type": "display_data"
    }
   ],
   "source": [
    "_, ax = plt.subplots(figsize=(10,5))\n",
    "ax.scatter(data.temp_feel, data.rides, color=\"black\", alpha=0.5)\n",
    "ax.spines[['right', 'top']].set_visible(False)\n",
    "ax.set_title(\n",
    "    \"# Rides vs. Temp Feel\",\n",
    "    loc='left', \n",
    "    fontdict={'fontsize': 12}\n",
    ")\n",
    "ax.set_xlabel(\"Temp Feel\");\n",
    "ax.set_ylabel(\"# Rides\");\n"
   ]
  },
  {
   "cell_type": "code",
   "execution_count": 6,
   "id": "da5db644-f8c5-46cc-b3b4-d001d3f7473d",
   "metadata": {
    "execution": {
     "iopub.execute_input": "2023-11-21T03:49:47.687636Z",
     "iopub.status.busy": "2023-11-21T03:49:47.687394Z",
     "iopub.status.idle": "2023-11-21T03:49:53.277489Z",
     "shell.execute_reply": "2023-11-21T03:49:53.277151Z",
     "shell.execute_reply.started": "2023-11-21T03:49:47.687623Z"
    },
    "tags": []
   },
   "outputs": [
    {
     "name": "stdout",
     "output_type": "stream",
     "text": [
      "█████████████████████████                                                                            |    254/1,000 |  2.7% | 0.00456\r"
     ]
    },
    {
     "data": {
      "text/html": [
       "<div>\n",
       "<style scoped>\n",
       "    .dataframe tbody tr th:only-of-type {\n",
       "        vertical-align: middle;\n",
       "    }\n",
       "\n",
       "    .dataframe tbody tr th {\n",
       "        vertical-align: top;\n",
       "    }\n",
       "\n",
       "    .dataframe thead th {\n",
       "        text-align: right;\n",
       "    }\n",
       "</style>\n",
       "<table border=\"1\" class=\"dataframe\">\n",
       "  <thead>\n",
       "    <tr style=\"text-align: right;\">\n",
       "      <th></th>\n",
       "      <th>mean</th>\n",
       "      <th>std</th>\n",
       "      <th>min</th>\n",
       "      <th>25%</th>\n",
       "      <th>50%</th>\n",
       "      <th>75%</th>\n",
       "      <th>max</th>\n",
       "    </tr>\n",
       "  </thead>\n",
       "  <tbody>\n",
       "    <tr>\n",
       "      <th>b0</th>\n",
       "      <td>-2136.285645</td>\n",
       "      <td>564.753296</td>\n",
       "      <td>-4946.486816</td>\n",
       "      <td>-2482.902649</td>\n",
       "      <td>-2154.171631</td>\n",
       "      <td>-1814.596039</td>\n",
       "      <td>2011.614502</td>\n",
       "    </tr>\n",
       "    <tr>\n",
       "      <th>b1</th>\n",
       "      <td>81.283691</td>\n",
       "      <td>8.080614</td>\n",
       "      <td>24.113178</td>\n",
       "      <td>76.680262</td>\n",
       "      <td>81.570534</td>\n",
       "      <td>86.226130</td>\n",
       "      <td>121.304459</td>\n",
       "    </tr>\n",
       "    <tr>\n",
       "      <th>sigma</th>\n",
       "      <td>1297.540161</td>\n",
       "      <td>64.665108</td>\n",
       "      <td>1103.697998</td>\n",
       "      <td>1255.419769</td>\n",
       "      <td>1291.346191</td>\n",
       "      <td>1330.836151</td>\n",
       "      <td>2074.290283</td>\n",
       "    </tr>\n",
       "  </tbody>\n",
       "</table>\n",
       "</div>"
      ],
      "text/plain": [
       "              mean         std          min          25%          50%  \\\n",
       "b0    -2136.285645  564.753296 -4946.486816 -2482.902649 -2154.171631   \n",
       "b1       81.283691    8.080614    24.113178    76.680262    81.570534   \n",
       "sigma  1297.540161   64.665108  1103.697998  1255.419769  1291.346191   \n",
       "\n",
       "               75%          max  \n",
       "b0    -1814.596039  2011.614502  \n",
       "b1       86.226130   121.304459  \n",
       "sigma  1330.836151  2074.290283  "
      ]
     },
     "execution_count": 6,
     "metadata": {},
     "output_type": "execute_result"
    }
   ],
   "source": [
    "def prior_func(\n",
    "    mean_b0: float, std_b0: float, b0: Tensor,\n",
    "    mean_b1: float, std_b1: float, b1: Tensor,\n",
    "    rate_sigma: float, sigma: Tensor,\n",
    ") -> Tensor:\n",
    "    b0_log_prob = dist.Normal(mean_b0, std_b0).log_prob(b0)\n",
    "    b1_log_prob = dist.Normal(mean_b1, std_b1).log_prob(b1)\n",
    "    sigma_log_prob = dist.Exponential(rate=rate_sigma).log_prob(sigma)\n",
    "    return (b0_log_prob + b1_log_prob + sigma_log_prob).squeeze()\n",
    "\n",
    "def likelihood_func(b0: Tensor, b1: Tensor, sigma: Tensor, temp: Tensor, rides: Tensor) -> Tensor:\n",
    "    # Check number of parameter samples\n",
    "    assert (num_samples := len(b0)) == len(b1) == len(sigma)\n",
    "    # Check number of data observations\n",
    "    assert (num_obs := len(temp)) == len(rides)\n",
    "    \n",
    "    # Model, shape=(num_samples, num_obs)\n",
    "    model = dist.Normal(b0 + b1 * temp[None, :], sigma)\n",
    "    \n",
    "    # Likelihood for each parameter set (agregated across iid observations)\n",
    "    like = model.log_prob(rides[None, :]).sum(-1)\n",
    "    \n",
    "    return like\n",
    "\n",
    "parameter_samples = ParameterSamples.random_initialization(\n",
    "    bounds=dict(\n",
    "        b0=(-5_000., 10_000.),\n",
    "        b1=(-50., 300.),\n",
    "        sigma=(1e-6, 10_000.)\n",
    "    ),\n",
    "    shapes=dict(b0=(1,), b1=(1,), sigma=(1,)),\n",
    "    num_samples=2**13,\n",
    ")\n",
    "\n",
    "result = run_mcmc(\n",
    "    parameter_samples,\n",
    "    prior_func=partial(\n",
    "        prior_func,\n",
    "        mean_b0=-2_000, \n",
    "        std_b0=1_000,\n",
    "        mean_b1=100, \n",
    "        std_b1=40,\n",
    "        rate_sigma=0.0008,\n",
    "    ),\n",
    "    likelihood_func=partial(\n",
    "        likelihood_func,\n",
    "        temp=torch.from_numpy(data.temp_feel.values).to(torch.float32),\n",
    "        rides=torch.from_numpy(data.rides.values).to(torch.float32),\n",
    "    ),\n",
    "    verbose=True,\n",
    ")\n",
    "\n",
    "result.get_posterior_summary()"
   ]
  },
  {
   "cell_type": "code",
   "execution_count": null,
   "id": "527a3e84-4066-44a1-8c75-7d645863b02c",
   "metadata": {
    "tags": []
   },
   "outputs": [],
   "source": [
    "_, ax = plt.subplots(figsize=(10,5))\n",
    "for param in result.parameter_samples.keys():\n",
    "    ax.plot(result.correlation_traces[param].squeeze(), label=param)\n",
    "ax.set_title(\"Correlation of samples with intialization\", loc=\"left\");\n",
    "ax.set_xlabel(\"MCMC Iteration #\");\n",
    "ax.set_ylabel(\"Correlation\");\n",
    "ax.spines[['right', 'top']].set_visible(False);\n",
    "ax.legend();"
   ]
  },
  {
   "cell_type": "code",
   "execution_count": null,
   "id": "9c3be946-b945-4a27-bbe2-7f15666eadbd",
   "metadata": {
    "tags": []
   },
   "outputs": [],
   "source": [
    "_, ax = plt.subplots(figsize=(10,5))\n",
    "for param in result.parameter_samples.keys():\n",
    "    ax.plot(result.wasserstein_distance_traces[param].squeeze(), label=param)\n",
    "ax.set_title(\"Trace of Wasserstein distance between split A & B\", loc=\"left\");\n",
    "ax.set_xlabel(\"MCMC Iteration #\");\n",
    "ax.set_ylabel(\"Wasserstein Distance\");\n",
    "ax.spines[['right', 'top']].set_visible(False);\n",
    "ax.legend();"
   ]
  },
  {
   "cell_type": "markdown",
   "id": "9c321843-677b-4ddd-8349-901f4027455b",
   "metadata": {},
   "source": [
    "# Sequential Inference"
   ]
  },
  {
   "cell_type": "code",
   "execution_count": 18,
   "id": "1afe69f5-3f39-4b95-a828-0fd0c0b68b9a",
   "metadata": {
    "execution": {
     "iopub.execute_input": "2023-11-21T03:54:50.036872Z",
     "iopub.status.busy": "2023-11-21T03:54:50.036152Z",
     "iopub.status.idle": "2023-11-21T03:54:50.060206Z",
     "shell.execute_reply": "2023-11-21T03:54:50.059770Z",
     "shell.execute_reply.started": "2023-11-21T03:54:50.036821Z"
    },
    "tags": []
   },
   "outputs": [],
   "source": [
    "ridxs = torch.randint(low=0, high=len(data), size=(100,))\n",
    "idxs_1 = ridxs[:50]\n",
    "idxs_2 = ridxs[50:]\n",
    "\n",
    "parameter_samples = ParameterSamples.random_initialization(\n",
    "    bounds=dict(\n",
    "        b0=(-5_000., 10_000.),\n",
    "        b1=(-50., 300.),\n",
    "        sigma=(1e-6, 10_000.)\n",
    "    ),\n",
    "    shapes=dict(b0=(1,), b1=(1,), sigma=(1,)),\n",
    "    num_samples=2**13,\n",
    ")"
   ]
  },
  {
   "cell_type": "code",
   "execution_count": 19,
   "id": "5b8bc40d-b803-4084-b121-700d39659890",
   "metadata": {
    "execution": {
     "iopub.execute_input": "2023-11-21T03:54:52.226178Z",
     "iopub.status.busy": "2023-11-21T03:54:52.225555Z",
     "iopub.status.idle": "2023-11-21T03:54:54.077474Z",
     "shell.execute_reply": "2023-11-21T03:54:54.077124Z",
     "shell.execute_reply.started": "2023-11-21T03:54:52.226124Z"
    },
    "tags": []
   },
   "outputs": [
    {
     "name": "stdout",
     "output_type": "stream",
     "text": [
      "███████████████                                                                                      |    155/1,000 |  1.9% | 0.00510\r"
     ]
    },
    {
     "data": {
      "text/html": [
       "<div>\n",
       "<style scoped>\n",
       "    .dataframe tbody tr th:only-of-type {\n",
       "        vertical-align: middle;\n",
       "    }\n",
       "\n",
       "    .dataframe tbody tr th {\n",
       "        vertical-align: top;\n",
       "    }\n",
       "\n",
       "    .dataframe thead th {\n",
       "        text-align: right;\n",
       "    }\n",
       "</style>\n",
       "<table border=\"1\" class=\"dataframe\">\n",
       "  <thead>\n",
       "    <tr style=\"text-align: right;\">\n",
       "      <th></th>\n",
       "      <th>mean</th>\n",
       "      <th>std</th>\n",
       "      <th>min</th>\n",
       "      <th>25%</th>\n",
       "      <th>50%</th>\n",
       "      <th>75%</th>\n",
       "      <th>max</th>\n",
       "    </tr>\n",
       "  </thead>\n",
       "  <tbody>\n",
       "    <tr>\n",
       "      <th>b0</th>\n",
       "      <td>-2723.989746</td>\n",
       "      <td>822.670593</td>\n",
       "      <td>-5000.000000</td>\n",
       "      <td>-3286.069702</td>\n",
       "      <td>-2726.340088</td>\n",
       "      <td>-2188.769714</td>\n",
       "      <td>342.024445</td>\n",
       "    </tr>\n",
       "    <tr>\n",
       "      <th>b1</th>\n",
       "      <td>89.559372</td>\n",
       "      <td>11.600941</td>\n",
       "      <td>38.483494</td>\n",
       "      <td>81.868883</td>\n",
       "      <td>89.610863</td>\n",
       "      <td>97.505926</td>\n",
       "      <td>125.624939</td>\n",
       "    </tr>\n",
       "    <tr>\n",
       "      <th>sigma</th>\n",
       "      <td>1416.069336</td>\n",
       "      <td>167.544922</td>\n",
       "      <td>992.266418</td>\n",
       "      <td>1304.847076</td>\n",
       "      <td>1401.955994</td>\n",
       "      <td>1508.030731</td>\n",
       "      <td>4894.348633</td>\n",
       "    </tr>\n",
       "  </tbody>\n",
       "</table>\n",
       "</div>"
      ],
      "text/plain": [
       "              mean         std          min          25%          50%  \\\n",
       "b0    -2723.989746  822.670593 -5000.000000 -3286.069702 -2726.340088   \n",
       "b1       89.559372   11.600941    38.483494    81.868883    89.610863   \n",
       "sigma  1416.069336  167.544922   992.266418  1304.847076  1401.955994   \n",
       "\n",
       "               75%          max  \n",
       "b0    -2188.769714   342.024445  \n",
       "b1       97.505926   125.624939  \n",
       "sigma  1508.030731  4894.348633  "
      ]
     },
     "execution_count": 19,
     "metadata": {},
     "output_type": "execute_result"
    }
   ],
   "source": [
    "result_1 = run_mcmc(\n",
    "    parameter_samples,\n",
    "    prior_func=partial(\n",
    "        prior_func,\n",
    "        mean_b0=-2_000, \n",
    "        std_b0=1_000,\n",
    "        mean_b1=100, \n",
    "        std_b1=40,\n",
    "        rate_sigma=0.0008,\n",
    "    ),\n",
    "    likelihood_func=partial(\n",
    "        likelihood_func,\n",
    "        temp=torch.from_numpy(data.temp_feel.values[idxs_1]).to(torch.float32),\n",
    "        rides=torch.from_numpy(data.rides.values[idxs_1]).to(torch.float32),\n",
    "    ),\n",
    "    verbose=True,\n",
    ")\n",
    "result_1.get_posterior_summary()"
   ]
  },
  {
   "cell_type": "code",
   "execution_count": 20,
   "id": "c112de6f-4a03-49bf-a31d-53e31e785913",
   "metadata": {
    "execution": {
     "iopub.execute_input": "2023-11-21T03:55:00.213326Z",
     "iopub.status.busy": "2023-11-21T03:55:00.212627Z",
     "iopub.status.idle": "2023-11-21T03:55:02.552138Z",
     "shell.execute_reply": "2023-11-21T03:55:02.551901Z",
     "shell.execute_reply.started": "2023-11-21T03:55:00.213277Z"
    },
    "tags": []
   },
   "outputs": [
    {
     "name": "stdout",
     "output_type": "stream",
     "text": [
      "██████████████████                                                                                   |    183/1,000 |  2.3% | 0.00543\r"
     ]
    },
    {
     "data": {
      "text/html": [
       "<div>\n",
       "<style scoped>\n",
       "    .dataframe tbody tr th:only-of-type {\n",
       "        vertical-align: middle;\n",
       "    }\n",
       "\n",
       "    .dataframe tbody tr th {\n",
       "        vertical-align: top;\n",
       "    }\n",
       "\n",
       "    .dataframe thead th {\n",
       "        text-align: right;\n",
       "    }\n",
       "</style>\n",
       "<table border=\"1\" class=\"dataframe\">\n",
       "  <thead>\n",
       "    <tr style=\"text-align: right;\">\n",
       "      <th></th>\n",
       "      <th>mean</th>\n",
       "      <th>std</th>\n",
       "      <th>min</th>\n",
       "      <th>25%</th>\n",
       "      <th>50%</th>\n",
       "      <th>75%</th>\n",
       "      <th>max</th>\n",
       "    </tr>\n",
       "  </thead>\n",
       "  <tbody>\n",
       "    <tr>\n",
       "      <th>b0</th>\n",
       "      <td>-2151.073975</td>\n",
       "      <td>753.127563</td>\n",
       "      <td>-5000.000000</td>\n",
       "      <td>-2662.048645</td>\n",
       "      <td>-2158.991577</td>\n",
       "      <td>-1644.921783</td>\n",
       "      <td>563.936646</td>\n",
       "    </tr>\n",
       "    <tr>\n",
       "      <th>b1</th>\n",
       "      <td>81.206642</td>\n",
       "      <td>10.542070</td>\n",
       "      <td>41.451042</td>\n",
       "      <td>74.224052</td>\n",
       "      <td>81.355267</td>\n",
       "      <td>88.291792</td>\n",
       "      <td>122.629898</td>\n",
       "    </tr>\n",
       "    <tr>\n",
       "      <th>sigma</th>\n",
       "      <td>1415.882812</td>\n",
       "      <td>144.092926</td>\n",
       "      <td>973.146118</td>\n",
       "      <td>1313.922760</td>\n",
       "      <td>1403.225159</td>\n",
       "      <td>1503.548737</td>\n",
       "      <td>2155.580322</td>\n",
       "    </tr>\n",
       "  </tbody>\n",
       "</table>\n",
       "</div>"
      ],
      "text/plain": [
       "              mean         std          min          25%          50%  \\\n",
       "b0    -2151.073975  753.127563 -5000.000000 -2662.048645 -2158.991577   \n",
       "b1       81.206642   10.542070    41.451042    74.224052    81.355267   \n",
       "sigma  1415.882812  144.092926   973.146118  1313.922760  1403.225159   \n",
       "\n",
       "               75%          max  \n",
       "b0    -1644.921783   563.936646  \n",
       "b1       88.291792   122.629898  \n",
       "sigma  1503.548737  2155.580322  "
      ]
     },
     "execution_count": 20,
     "metadata": {},
     "output_type": "execute_result"
    }
   ],
   "source": [
    "result_2 = run_mcmc(\n",
    "    result_1.parameter_samples, # Start from posterior samples from 1\n",
    "    prior_func=partial(\n",
    "        prior_func,\n",
    "        mean_b0=-2_000, \n",
    "        std_b0=1_000,\n",
    "        mean_b1=100, \n",
    "        std_b1=40,\n",
    "        rate_sigma=0.0008,\n",
    "    ),\n",
    "    likelihood_func=partial(\n",
    "        likelihood_func,\n",
    "        temp=torch.from_numpy(data.temp_feel.values[idxs_2]).to(torch.float32),\n",
    "        rides=torch.from_numpy(data.rides.values[idxs_2]).to(torch.float32),\n",
    "    ),\n",
    "    verbose=True,\n",
    ")\n",
    "result_2.get_posterior_summary()"
   ]
  },
  {
   "cell_type": "code",
   "execution_count": 21,
   "id": "375526ca-778b-4040-a66f-b9497ddb1452",
   "metadata": {
    "execution": {
     "iopub.execute_input": "2023-11-21T03:55:06.692661Z",
     "iopub.status.busy": "2023-11-21T03:55:06.692070Z",
     "iopub.status.idle": "2023-11-21T03:55:10.194680Z",
     "shell.execute_reply": "2023-11-21T03:55:10.194406Z",
     "shell.execute_reply.started": "2023-11-21T03:55:06.692617Z"
    },
    "tags": []
   },
   "outputs": [
    {
     "name": "stdout",
     "output_type": "stream",
     "text": [
      "██████████████████████████                                                                           |    261/1,000 |  1.4% | 0.00533\r"
     ]
    },
    {
     "data": {
      "text/html": [
       "<div>\n",
       "<style scoped>\n",
       "    .dataframe tbody tr th:only-of-type {\n",
       "        vertical-align: middle;\n",
       "    }\n",
       "\n",
       "    .dataframe tbody tr th {\n",
       "        vertical-align: top;\n",
       "    }\n",
       "\n",
       "    .dataframe thead th {\n",
       "        text-align: right;\n",
       "    }\n",
       "</style>\n",
       "<table border=\"1\" class=\"dataframe\">\n",
       "  <thead>\n",
       "    <tr style=\"text-align: right;\">\n",
       "      <th></th>\n",
       "      <th>mean</th>\n",
       "      <th>std</th>\n",
       "      <th>min</th>\n",
       "      <th>25%</th>\n",
       "      <th>50%</th>\n",
       "      <th>75%</th>\n",
       "      <th>max</th>\n",
       "    </tr>\n",
       "  </thead>\n",
       "  <tbody>\n",
       "    <tr>\n",
       "      <th>b0</th>\n",
       "      <td>-2559.865723</td>\n",
       "      <td>653.417358</td>\n",
       "      <td>-5000.000000</td>\n",
       "      <td>-2998.015686</td>\n",
       "      <td>-2562.353760</td>\n",
       "      <td>-2126.071655</td>\n",
       "      <td>30.270054</td>\n",
       "    </tr>\n",
       "    <tr>\n",
       "      <th>b1</th>\n",
       "      <td>86.972206</td>\n",
       "      <td>9.094235</td>\n",
       "      <td>51.834301</td>\n",
       "      <td>80.896940</td>\n",
       "      <td>86.989162</td>\n",
       "      <td>93.040993</td>\n",
       "      <td>120.420540</td>\n",
       "    </tr>\n",
       "    <tr>\n",
       "      <th>sigma</th>\n",
       "      <td>1397.469360</td>\n",
       "      <td>101.549568</td>\n",
       "      <td>1094.832886</td>\n",
       "      <td>1327.334351</td>\n",
       "      <td>1392.281555</td>\n",
       "      <td>1460.694336</td>\n",
       "      <td>2181.272217</td>\n",
       "    </tr>\n",
       "  </tbody>\n",
       "</table>\n",
       "</div>"
      ],
      "text/plain": [
       "              mean         std          min          25%          50%  \\\n",
       "b0    -2559.865723  653.417358 -5000.000000 -2998.015686 -2562.353760   \n",
       "b1       86.972206    9.094235    51.834301    80.896940    86.989162   \n",
       "sigma  1397.469360  101.549568  1094.832886  1327.334351  1392.281555   \n",
       "\n",
       "               75%          max  \n",
       "b0    -2126.071655    30.270054  \n",
       "b1       93.040993   120.420540  \n",
       "sigma  1460.694336  2181.272217  "
      ]
     },
     "execution_count": 21,
     "metadata": {},
     "output_type": "execute_result"
    }
   ],
   "source": [
    "result_1n2 = run_mcmc(\n",
    "    parameter_samples, \n",
    "    prior_func=partial(\n",
    "        prior_func,\n",
    "        mean_b0=-2_000, \n",
    "        std_b0=1_000,\n",
    "        mean_b1=100, \n",
    "        std_b1=40,\n",
    "        rate_sigma=0.0008,\n",
    "    ),\n",
    "    likelihood_func=partial(\n",
    "        likelihood_func,\n",
    "        temp=torch.from_numpy(data.temp_feel.values[ridxs]).to(torch.float32),\n",
    "        rides=torch.from_numpy(data.rides.values[ridxs]).to(torch.float32),\n",
    "    ),\n",
    "    verbose=True,\n",
    ")\n",
    "result_1n2.get_posterior_summary()"
   ]
  },
  {
   "cell_type": "code",
   "execution_count": null,
   "id": "f0d20627-9f8d-4883-ba0c-05c253c71b5e",
   "metadata": {},
   "outputs": [],
   "source": []
  }
 ],
 "metadata": {
  "kernelspec": {
   "display_name": "Python [conda env:bayesian_stats]",
   "language": "python",
   "name": "conda-env-bayesian_stats-py"
  },
  "language_info": {
   "codemirror_mode": {
    "name": "ipython",
    "version": 3
   },
   "file_extension": ".py",
   "mimetype": "text/x-python",
   "name": "python",
   "nbconvert_exporter": "python",
   "pygments_lexer": "ipython3",
   "version": "3.11.4"
  }
 },
 "nbformat": 4,
 "nbformat_minor": 5
}
