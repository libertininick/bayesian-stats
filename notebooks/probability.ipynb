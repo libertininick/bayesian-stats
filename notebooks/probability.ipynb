{
 "cells": [
  {
   "cell_type": "code",
   "execution_count": 1,
   "id": "e9568a94",
   "metadata": {
    "execution": {
     "iopub.execute_input": "2023-08-12T20:08:21.995812Z",
     "iopub.status.busy": "2023-08-12T20:08:21.994797Z",
     "iopub.status.idle": "2023-08-12T20:08:22.181367Z",
     "shell.execute_reply": "2023-08-12T20:08:22.180891Z",
     "shell.execute_reply.started": "2023-08-12T20:08:21.995705Z"
    }
   },
   "outputs": [],
   "source": [
    "import os\n",
    "from enum import IntEnum\n",
    "from pathlib import Path\n",
    "\n",
    "import pandas as pd"
   ]
  },
  {
   "cell_type": "markdown",
   "id": "e94e92d5",
   "metadata": {},
   "source": [
    "# Load Data"
   ]
  },
  {
   "cell_type": "code",
   "execution_count": 2,
   "id": "1a62dd08",
   "metadata": {
    "execution": {
     "iopub.execute_input": "2023-08-12T20:08:24.253777Z",
     "iopub.status.busy": "2023-08-12T20:08:24.253609Z",
     "iopub.status.idle": "2023-08-12T20:08:24.258542Z",
     "shell.execute_reply": "2023-08-12T20:08:24.258061Z",
     "shell.execute_reply.started": "2023-08-12T20:08:24.253767Z"
    }
   },
   "outputs": [
    {
     "data": {
      "text/plain": [
       "PosixPath('/home/nlibertini/Repositories/bayesian-stats/data/think-bayes')"
      ]
     },
     "execution_count": 2,
     "metadata": {},
     "output_type": "execute_result"
    }
   ],
   "source": [
    "cwd = Path(os.getcwd())\n",
    "data_dir = cwd.parents[1].joinpath(\"data/think-bayes\")\n",
    "if not data_dir.exists():\n",
    "    data_dir.mkdir(parents=True, exist_ok=True)\n",
    "data_dir"
   ]
  },
  {
   "cell_type": "markdown",
   "id": "5bec8a9c",
   "metadata": {
    "jp-MarkdownHeadingCollapsed": true,
    "tags": []
   },
   "source": [
    "## Download and save"
   ]
  },
  {
   "cell_type": "code",
   "execution_count": null,
   "id": "ca4880d1",
   "metadata": {},
   "outputs": [],
   "source": [
    "(\n",
    "    pd\n",
    "    .read_csv(\"https://github.com/AllenDowney/ThinkBayes2/raw/master/data/gss_bayes.csv\")\n",
    "    .to_csv(data_dir.joinpath(\"gss_bayes.csv\"))\n",
    ")"
   ]
  },
  {
   "cell_type": "markdown",
   "id": "da153e75",
   "metadata": {},
   "source": [
    "## Load from local dir"
   ]
  },
  {
   "cell_type": "code",
   "execution_count": 3,
   "id": "401d8a14",
   "metadata": {
    "execution": {
     "iopub.execute_input": "2023-08-12T20:08:37.150322Z",
     "iopub.status.busy": "2023-08-12T20:08:37.149783Z",
     "iopub.status.idle": "2023-08-12T20:08:37.190027Z",
     "shell.execute_reply": "2023-08-12T20:08:37.189535Z",
     "shell.execute_reply.started": "2023-08-12T20:08:37.150276Z"
    }
   },
   "outputs": [
    {
     "name": "stdout",
     "output_type": "stream",
     "text": [
      "<class 'pandas.core.frame.DataFrame'>\n",
      "Index: 49290 entries, 0 to 49289\n",
      "Data columns (total 7 columns):\n",
      " #   Column    Non-Null Count  Dtype  \n",
      "---  ------    --------------  -----  \n",
      " 0   caseid    49290 non-null  int64  \n",
      " 1   year      49290 non-null  int64  \n",
      " 2   age       49290 non-null  float64\n",
      " 3   sex       49290 non-null  int64  \n",
      " 4   polviews  49290 non-null  float64\n",
      " 5   partyid   49290 non-null  float64\n",
      " 6   indus10   49290 non-null  float64\n",
      "dtypes: float64(4), int64(3)\n",
      "memory usage: 3.0 MB\n"
     ]
    }
   ],
   "source": [
    "sample_population = pd.read_csv(data_dir.joinpath(\"gss_bayes.csv\"), index_col=0)\n",
    "sample_population.info()          "
   ]
  },
  {
   "cell_type": "markdown",
   "id": "73890016",
   "metadata": {},
   "source": [
    "## Column Encodings"
   ]
  },
  {
   "cell_type": "code",
   "execution_count": 4,
   "id": "03081740",
   "metadata": {
    "execution": {
     "iopub.execute_input": "2023-08-12T20:08:39.820770Z",
     "iopub.status.busy": "2023-08-12T20:08:39.820187Z",
     "iopub.status.idle": "2023-08-12T20:08:39.832458Z",
     "shell.execute_reply": "2023-08-12T20:08:39.831217Z",
     "shell.execute_reply.started": "2023-08-12T20:08:39.820720Z"
    }
   },
   "outputs": [],
   "source": [
    "class Sex(IntEnum):\n",
    "    Male = 1\n",
    "    Female = 2\n",
    "\n",
    "class PolViews(IntEnum):\n",
    "    ExtremelyLiberal = 1\n",
    "    Liberal = 2\n",
    "    SlightlyLiberal = 3\n",
    "    Moderate = 4\n",
    "    SlightlyConservative = 5\n",
    "    Conservative = 6\n",
    "    ExtremelyConservative = 7\n",
    "\n",
    "class Party(IntEnum):\n",
    "    StrongDemocrat = 0\n",
    "    NotStrongDemocrat = 1\n",
    "    IndependentNearDemocrat = 2\n",
    "    Independent = 3\n",
    "    IndependentNearRepublican = 4\n",
    "    NotStrongRepublican = 5\n",
    "    StrongRepublican = 6\n",
    "    OtherParty = 7"
   ]
  },
  {
   "cell_type": "markdown",
   "id": "22805b59-5502-4bdc-9d06-7034e57712eb",
   "metadata": {},
   "source": [
    "# What is Probability?\n",
    "- From a Bayesian perspective, probability is a measure of one's uncertainty or confidence about a particular inference question.\n",
    "    - *How likely is it to rain tomorrow?*\n",
    "    - *What's the chance I left the stove on when I rushed out the door to work?*\n",
    "    - *What is our confidence that a particular candidate will win an election?*\n",
    "    - *Given we observed three heads in a row, what is the chance the coin being flipped has heads on both sides?*\n",
    "- One's uncertainty can encompass:\n",
    "    - Observed frequencies of similar events.\n",
    "    - Expert insight into the factors that influence the question at hand.\n",
    "    - All other types of prior knowledge. \n",
    "- It is not limited to the narrow definition of *probability = long run frequency*.\n",
    "- Given this definition of probability, it reveals that **all probabilities are conditional probabilities.**\n",
    "    - This is because are probability questions are conditioned on what we already know about the question: `P(X | what we know)`"
   ]
  },
  {
   "cell_type": "markdown",
   "id": "85cd1bf8-d687-4737-b80f-090bbb3c24ce",
   "metadata": {},
   "source": [
    "# Conditional Probability\n",
    "- A conditional probability is the uncertainty we have in an inference question given what we already know.\n",
    "- It could be our prior probability before looking at any data: `P(female | prior knowledge) ~ 50%`.\n",
    "- Or it could be the probability conditioned on some new data: \n",
    "\n",
    "What is the probability a respondent is a `StrongDemocrat`, given we know they are a `Female`?"
   ]
  },
  {
   "cell_type": "code",
   "execution_count": 5,
   "id": "748455bc",
   "metadata": {
    "execution": {
     "iopub.execute_input": "2023-08-12T20:08:46.984113Z",
     "iopub.status.busy": "2023-08-12T20:08:46.983965Z",
     "iopub.status.idle": "2023-08-12T20:08:47.000736Z",
     "shell.execute_reply": "2023-08-12T20:08:46.999918Z",
     "shell.execute_reply.started": "2023-08-12T20:08:46.984103Z"
    }
   },
   "outputs": [
    {
     "name": "stdout",
     "output_type": "stream",
     "text": [
      "P(StrongDemocrat|female) = 17.47%\n"
     ]
    }
   ],
   "source": [
    "females = sample_population[sample_population.sex == Sex.Female]\n",
    "p = (females.partyid == Party.StrongDemocrat).mean()\n",
    "\n",
    "print(f\"P(StrongDemocrat|female) = {p:.2%}\")"
   ]
  },
  {
   "cell_type": "markdown",
   "id": "f7455a34-a941-47fd-8446-b0cf2e10c0c1",
   "metadata": {},
   "source": [
    "## Conditional Probability Is Not Commutative\n",
    "- The order of conditioning matters: P(A|B) != P(B|A)\n",
    "- The subset of respondents that are female is different than the subset that are strong Democrats."
   ]
  },
  {
   "cell_type": "markdown",
   "id": "ad0675d0-0ef1-4046-9505-7c1d80cf2191",
   "metadata": {},
   "source": [
    "What is the probability that a respondent is a `Female`, given they are a `StrongDemocrat`?"
   ]
  },
  {
   "cell_type": "code",
   "execution_count": 6,
   "id": "51f6d4db",
   "metadata": {
    "execution": {
     "iopub.execute_input": "2023-08-12T20:09:22.212457Z",
     "iopub.status.busy": "2023-08-12T20:09:22.212335Z",
     "iopub.status.idle": "2023-08-12T20:09:22.222909Z",
     "shell.execute_reply": "2023-08-12T20:09:22.221619Z",
     "shell.execute_reply.started": "2023-08-12T20:09:22.212448Z"
    }
   },
   "outputs": [
    {
     "name": "stdout",
     "output_type": "stream",
     "text": [
      "P(female|StrongDemocrat) = 58.75%\n"
     ]
    }
   ],
   "source": [
    "strong_dems = sample_population[sample_population.partyid == Party.StrongDemocrat]\n",
    "p = (strong_dems.sex == Sex.Female).mean()\n",
    "\n",
    "print(f\"P(female|StrongDemocrat) = {p:.2%}\")"
   ]
  },
  {
   "cell_type": "markdown",
   "id": "b3a21266-2d39-40d8-8f52-a2bd89bfcf6e",
   "metadata": {},
   "source": [
    "## Condition and Conjunction\n",
    "- We can condition on more than one variable at time.\n",
    "- The multiple conditioning variables are combined via conjunction.\n",
    "\n",
    "What probability a respondent is female, given that they are a `StrongDemocrat` with `liberal` political views?"
   ]
  },
  {
   "cell_type": "code",
   "execution_count": 7,
   "id": "797ee242",
   "metadata": {
    "execution": {
     "iopub.execute_input": "2023-08-12T20:09:52.927227Z",
     "iopub.status.busy": "2023-08-12T20:09:52.926684Z",
     "iopub.status.idle": "2023-08-12T20:09:52.946915Z",
     "shell.execute_reply": "2023-08-12T20:09:52.946111Z",
     "shell.execute_reply.started": "2023-08-12T20:09:52.927183Z"
    }
   },
   "outputs": [
    {
     "name": "stdout",
     "output_type": "stream",
     "text": [
      "3,599 liberal + StrongDemocrat samples\n",
      "P(female) = 53.79%\n",
      "P(female|liberal, StrongDemocrat) = 58.54%\n"
     ]
    }
   ],
   "source": [
    "liberal_strong_dems = sample_population[\n",
    "    (sample_population.polviews <= PolViews.SlightlyLiberal) & \n",
    "    (sample_population.partyid == Party.StrongDemocrat)\n",
    "]\n",
    "p = (liberal_strong_dems.sex == Sex.Female).mean()\n",
    "\n",
    "print(f\"{len(liberal_strong_dems):,} liberal + StrongDemocrat samples\")\n",
    "print(f\"P(female) = {(sample_population.sex == Sex.Female).mean():.2%}\")\n",
    "print(f\"P(female|liberal, StrongDemocrat) = {p:.2%}\")"
   ]
  },
  {
   "cell_type": "markdown",
   "id": "c0f871c2-f9ac-45ee-b7b1-c1646e80cd85",
   "metadata": {},
   "source": [
    "# Joint Probability\n",
    "- Joint probability is the probability of two (or more) events happening together or being observed together\n",
    "- e.g. Probability of a person being a Female AND being a Democrat\n",
    "- The AND operation means we are combining two probabilities via conjunction\n",
    "\t- The calculation of the joint probability is sometimes called the \"product rule\" | \"chain rule\" of probability.\n",
    "- For independent events: `P(A,B) = P(A) * P(B)`\n",
    "- For dependent events/variables with observation overlap in a dataset: `P(A,B) = P(A) * P(B | A)`\n",
    "- Conjunction is commutative (i.e. order doesn't matter); `P(A,B) = P(B,A)` "
   ]
  },
  {
   "cell_type": "code",
   "execution_count": 8,
   "id": "051fd42e",
   "metadata": {
    "execution": {
     "iopub.execute_input": "2023-08-12T20:10:34.000383Z",
     "iopub.status.busy": "2023-08-12T20:10:34.000263Z",
     "iopub.status.idle": "2023-08-12T20:10:34.009338Z",
     "shell.execute_reply": "2023-08-12T20:10:34.007401Z",
     "shell.execute_reply.started": "2023-08-12T20:10:34.000374Z"
    }
   },
   "outputs": [
    {
     "name": "stdout",
     "output_type": "stream",
     "text": [
      "P(StrongDemocrat & female) = 9.40%\n"
     ]
    }
   ],
   "source": [
    "p = (\n",
    "    (sample_population.sex == Sex.Female) &\n",
    "    (sample_population.partyid == Party.StrongDemocrat)\n",
    ").mean()\n",
    "\n",
    "print(f\"P(StrongDemocrat & female) = {p:.2%}\")"
   ]
  },
  {
   "cell_type": "markdown",
   "id": "03f5e31c-e9ff-4107-95c4-20b6bf5ad363",
   "metadata": {},
   "source": [
    "## Conditional probability from joint probability\n",
    "- The conditional probability is the joint probability normalized by the (marginal) probability of one (or more) variables in the joint distribution\n",
    "- `P(A|B) = P(A,B) / P(B)`"
   ]
  },
  {
   "cell_type": "code",
   "execution_count": 10,
   "id": "aed5e767",
   "metadata": {
    "execution": {
     "iopub.execute_input": "2023-08-12T20:11:09.939125Z",
     "iopub.status.busy": "2023-08-12T20:11:09.938537Z",
     "iopub.status.idle": "2023-08-12T20:11:09.947999Z",
     "shell.execute_reply": "2023-08-12T20:11:09.946967Z",
     "shell.execute_reply.started": "2023-08-12T20:11:09.939080Z"
    },
    "tags": []
   },
   "outputs": [
    {
     "name": "stdout",
     "output_type": "stream",
     "text": [
      "P(StrongDemocrat) = 16.00%\n",
      "P(female, StrongDemocrat) = 9.40%\n",
      "P(female|StrongDemocrat) = 58.75%\n"
     ]
    }
   ],
   "source": [
    "# P(StrongDemocrat)\n",
    "p_strong_dem = (sample_population.partyid == Party.StrongDemocrat).mean()\n",
    "print(f\"P(StrongDemocrat) = {p_strong_dem:.2%}\")\n",
    "\n",
    "# P(female, StrongDemocrat)\n",
    "p_female_and_strong_dem = (\n",
    "    (sample_population.sex == Sex.Female) &\n",
    "    (sample_population.partyid == Party.StrongDemocrat)\n",
    ").mean()\n",
    "print(f\"P(female, StrongDemocrat) = {p_female_and_strong_dem:.2%}\")\n",
    "\n",
    "# P(female | StrongDemocrat)\n",
    "p_female_given_strong_dem = p_female_and_strong_dem / p_strong_dem\n",
    "print(f\"P(female|StrongDemocrat) = {p_female_given_strong_dem:.2%}\")"
   ]
  },
  {
   "cell_type": "markdown",
   "id": "65f0fa28-5000-405c-9ca9-6a3f5e54bfa7",
   "metadata": {},
   "source": [
    "## Joint probability from conditional\n",
    "- The probability of two events occurring together can be reframed as probability of the first event, multiplied by the probability of the second event GIVEN the first event has occurred.\n",
    "- `P(A,B) = P(B) * P(A|B)`"
   ]
  },
  {
   "cell_type": "code",
   "execution_count": 11,
   "id": "07d5caa3",
   "metadata": {
    "execution": {
     "iopub.execute_input": "2023-08-12T20:12:00.115008Z",
     "iopub.status.busy": "2023-08-12T20:12:00.114890Z",
     "iopub.status.idle": "2023-08-12T20:12:00.125695Z",
     "shell.execute_reply": "2023-08-12T20:12:00.124655Z",
     "shell.execute_reply.started": "2023-08-12T20:12:00.114999Z"
    }
   },
   "outputs": [
    {
     "name": "stdout",
     "output_type": "stream",
     "text": [
      "P(StrongDemocrat) = 16.00%\n",
      "P(female | StrongDemocrat) = 58.75%\n",
      "P(female, StrongDemocrat) = 9.40%\n"
     ]
    }
   ],
   "source": [
    "# P(StrongDemocrat)\n",
    "p_strong_dem = (sample_population.partyid == Party.StrongDemocrat).mean()\n",
    "print(f\"P(StrongDemocrat) = {p_strong_dem:.2%}\")\n",
    "\n",
    "# P(female | StrongDemocrat)\n",
    "strong_dems = sample_population[sample_population.partyid == Party.StrongDemocrat]\n",
    "p_female_given_strong_dem = (strong_dems.sex == Sex.Female).mean()\n",
    "print(f\"P(female | StrongDemocrat) = {p_female_given_strong_dem:.2%}\")\n",
    "\n",
    "# P(female, banker)\n",
    "p_female_and_strong_dem = p_strong_dem * p_female_given_strong_dem\n",
    "print(f\"P(female, StrongDemocrat) = {p_female_and_strong_dem:.2%}\")"
   ]
  },
  {
   "cell_type": "markdown",
   "id": "b64efc14",
   "metadata": {},
   "source": [
    "# Marginal Probability\n",
    "A marginal probability is the  probability of one of the variables, e.g. `P(female)`, in a joint probability distribution, `P(female, banker, Democrat)`, with the other variables removed (marginalized away).\n",
    "- The marginal variables (e.g. `female`) are the subset of variables being retained for the probability calculation.\n",
    "- The are called \"marginal\" because they're calculated by summing values in a table along rows or columns, and writing the sum in the margins of the table.\n",
    "- The discarded variables (e.g. `banker, Democrat`) are said to have been marginalized out.\n",
    "\n",
    "```\n",
    "                            Male  Female  | PartyTotal\n",
    "==========================================|===========\n",
    "StrongDemocrat              3252    4632  |       7884\n",
    "NotStrongDemocrat           4184    5985  |      10169\n",
    "IndependentNearDemocrat     3064    3113  |       6177\n",
    "Independent                 3264    3665  |       6929\n",
    "IndependentNearRepublican   2491    2071  |       4562\n",
    "NotStrongRepublican         3678    4258  |       7936\n",
    "StrongRepublican            2438    2491  |       4929\n",
    "OtherParty                   408     296  |        704\n",
    "------------------------------------------------------\n",
    "SexTotal                   22779   26511       \n",
    "```\n",
    "- Marginal probability of `Female` = `26511 / 49290` = `53.79%`\n",
    "- Marginal distribution of `Sex` variable: `[22779, 26511]`\n",
    "- Marginal probability of `StrongDemocrat` = `7884 / 49290` = `16.00%`\n",
    "- Marginal distribution of `PoliticalParty`:\n",
    "```\n",
    "StrongDemocrat                7884\n",
    "NotStrongDemocrat            10169\n",
    "IndependentNearDemocrat       6177\n",
    "Independent                   6929\n",
    "IndependentNearRepublican     4562\n",
    "NotStrongRepublican           7936\n",
    "StrongRepublican              4929\n",
    "OtherParty                     704\n",
    "```"
   ]
  },
  {
   "cell_type": "code",
   "execution_count": 12,
   "id": "aea88d32",
   "metadata": {
    "execution": {
     "iopub.execute_input": "2023-08-12T20:12:12.810904Z",
     "iopub.status.busy": "2023-08-12T20:12:12.810784Z",
     "iopub.status.idle": "2023-08-12T20:12:12.817182Z",
     "shell.execute_reply": "2023-08-12T20:12:12.815997Z",
     "shell.execute_reply.started": "2023-08-12T20:12:12.810895Z"
    }
   },
   "outputs": [
    {
     "name": "stdout",
     "output_type": "stream",
     "text": [
      "P(female) = 53.79%\n"
     ]
    }
   ],
   "source": [
    "p = (sample_population.sex == Sex.Female).mean()\n",
    "\n",
    "print(f\"P(female) = {p:.2%}\")"
   ]
  },
  {
   "cell_type": "code",
   "execution_count": 13,
   "id": "72eda19b",
   "metadata": {
    "execution": {
     "iopub.execute_input": "2023-08-12T20:12:23.667401Z",
     "iopub.status.busy": "2023-08-12T20:12:23.667037Z",
     "iopub.status.idle": "2023-08-12T20:12:23.689046Z",
     "shell.execute_reply": "2023-08-12T20:12:23.687705Z",
     "shell.execute_reply.started": "2023-08-12T20:12:23.667389Z"
    }
   },
   "outputs": [
    {
     "data": {
      "text/plain": [
       "sex\n",
       "2    0.537858\n",
       "1    0.462142\n",
       "Name: proportion, dtype: float64"
      ]
     },
     "execution_count": 13,
     "metadata": {},
     "output_type": "execute_result"
    }
   ],
   "source": [
    "sex_p_dist = sample_population.sex.value_counts(normalize=True)\n",
    "sex_p_dist"
   ]
  },
  {
   "cell_type": "code",
   "execution_count": 14,
   "id": "5050fed3",
   "metadata": {
    "execution": {
     "iopub.execute_input": "2023-08-12T20:12:27.147157Z",
     "iopub.status.busy": "2023-08-12T20:12:27.146621Z",
     "iopub.status.idle": "2023-08-12T20:12:27.156864Z",
     "shell.execute_reply": "2023-08-12T20:12:27.155540Z",
     "shell.execute_reply.started": "2023-08-12T20:12:27.147117Z"
    }
   },
   "outputs": [
    {
     "name": "stdout",
     "output_type": "stream",
     "text": [
      "P(StrongDemocrat) = 16.00%\n"
     ]
    }
   ],
   "source": [
    "p = (sample_population.partyid == Party.StrongDemocrat).mean()\n",
    "\n",
    "print(f\"P(StrongDemocrat) = {p:.2%}\")"
   ]
  },
  {
   "cell_type": "markdown",
   "id": "a2735d0a",
   "metadata": {},
   "source": [
    "# Bayes's Theorem\n",
    "- Joint probabilities are commutative: `P(A,B) = P(B,A)`\n",
    "- Joint probabilities are related to conditional probabilities (which are NOT commutative):\n",
    "    - `P(A,B) = P(A) * P(B|A)`\n",
    "    - `P(B,A) = P(B) * P(A|B)`\n",
    "- Thus, `P(A) * P(B|A) = P(B) * P(A|B)`\n",
    "- Bayes's Theorem: `P(A|B) = P(A) * P(B|A) / P(B)`"
   ]
  },
  {
   "cell_type": "code",
   "execution_count": 15,
   "id": "ef24e022",
   "metadata": {
    "execution": {
     "iopub.execute_input": "2023-08-12T20:13:32.272864Z",
     "iopub.status.busy": "2023-08-12T20:13:32.272743Z",
     "iopub.status.idle": "2023-08-12T20:13:32.286706Z",
     "shell.execute_reply": "2023-08-12T20:13:32.285563Z",
     "shell.execute_reply.started": "2023-08-12T20:13:32.272856Z"
    }
   },
   "outputs": [
    {
     "name": "stdout",
     "output_type": "stream",
     "text": [
      "P(female) = 53.79%\n",
      "P(StrongDemocrat|female) = 17.47%\n",
      "P(StrongDemocrat) = 16.00%\n",
      "P(female | StrongDemocrat) = 58.75%\n"
     ]
    }
   ],
   "source": [
    "# P(female)\n",
    "p_female = (sample_population.sex == Sex.Female).mean()\n",
    "print(f\"P(female) = {p_female:.2%}\")\n",
    "\n",
    "# P(StrongDemocrat | female)\n",
    "females = sample_population[sample_population.sex == Sex.Female]\n",
    "p_strong_dem_given_female = (females.partyid == Party.StrongDemocrat).mean()\n",
    "print(f\"P(StrongDemocrat|female) = {p_strong_dem_given_female:.2%}\")\n",
    "\n",
    "# P(StrongDemocrat)\n",
    "p_strong_dem = (sample_population.partyid == Party.StrongDemocrat).mean()\n",
    "print(f\"P(StrongDemocrat) = {p_strong_dem:.2%}\")\n",
    "\n",
    "# P(female | StrongDemocrat)\n",
    "p_female_given_strong_dem = p_female * p_strong_dem_given_female / p_strong_dem\n",
    "print(f\"P(female | StrongDemocrat) = {p_female_given_strong_dem:.2%}\")"
   ]
  },
  {
   "cell_type": "code",
   "execution_count": null,
   "id": "109c6738",
   "metadata": {},
   "outputs": [],
   "source": []
  }
 ],
 "metadata": {
  "kernelspec": {
   "display_name": "Python [conda env:bayesian_stats]",
   "language": "python",
   "name": "conda-env-bayesian_stats-py"
  },
  "language_info": {
   "codemirror_mode": {
    "name": "ipython",
    "version": 3
   },
   "file_extension": ".py",
   "mimetype": "text/x-python",
   "name": "python",
   "nbconvert_exporter": "python",
   "pygments_lexer": "ipython3",
   "version": "3.11.4"
  }
 },
 "nbformat": 4,
 "nbformat_minor": 5
}
